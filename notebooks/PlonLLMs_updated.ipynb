{
  "nbformat": 4,
  "nbformat_minor": 0,
  "metadata": {
    "colab": {
      "provenance": []
    },
    "kernelspec": {
      "name": "python3",
      "display_name": "Python 3"
    },
    "language_info": {
      "name": "python"
    }
  },
  "cells": [
    {
      "cell_type": "markdown",
      "source": [
        "# Installing and authenticating OpenAI API"
      ],
      "metadata": {
        "id": "x9BwATpxjvC4"
      }
    },
    {
      "cell_type": "code",
      "source": [
        "pip install --upgrade openai"
      ],
      "metadata": {
        "id": "T3NS_8IxT7Jg"
      },
      "execution_count": null,
      "outputs": []
    },
    {
      "cell_type": "code",
      "source": [
        "from openai import OpenAI\n",
        "import pandas as pd\n",
        "client = OpenAI(api_key='api_key')"
      ],
      "metadata": {
        "id": "VlC22Hf5P5Fu"
      },
      "execution_count": null,
      "outputs": []
    },
    {
      "cell_type": "markdown",
      "source": [
        "# Translation of Wug's test"
      ],
      "metadata": {
        "id": "8Dq4cbsHjhi_"
      }
    },
    {
      "cell_type": "code",
      "source": [
        "wug_test_original = [\n",
        "    \"One bird-like animal, then two. 'This is a wug. Now there is another one. There are two of them. There are two __.'\",\n",
        "    \"One bird, then two. 'This is a gutch. Now there is another one. There are two of them. There are two __.'\",\n",
        "    \"Man with a steaming pitcher on his head. 'This is a man who knows how to spow. He is spowing. He did the same thing yesterday. What did he do yesterday? Yesterday he __ '\",\n",
        "    \"One animal, then two. 'This is a kazh. 'Now there is another one. There are two of them. There are two __.'\",\n",
        "    \"Man swinging an object. 'This is a man who knows how to rick. He is ricking. He did the same thing yesterday. What did he do yesterday? Yesterday he __.'\" ,\n",
        "    \"One animal, then a miniscule animal. 'This is a wug. This is a very tiny wug. What would you call a very tiny wug? __. This wug lives in a house. What would you call a house that a wug lives in? __'\",\n",
        "    \"One animal, then two. 'This is a tor. Now there is another one. There are two of them. There are two __.'\",\n",
        "    \"Dog covered with irregular green spots. 'This is a dog with quirks on him. He is all covered with quirks. What kind of dog is he? He is a __ dog.'\",\n",
        "    \"One flower, then two. 'This is a lun. Now there is another one. There are two of them. There are two __·'\",\n",
        "    \"One animal, then two. 'This is a niz. Now there is another one. There are two of them. There are two __·'\",\n",
        "    \"Man doing calisthenics. 'This is a man who knows how to mot. He is motting. He did the same thing yesterday. What did he do yesterday? Yesterday he __·'\",\n",
        "    \"One bird, then two. 'This is a kra. Now there is another one. There are two of them. There are two __·'\",\n",
        "    \"One animal, then two. 'This is a tass. Now there is another one. There are two of them. There are two __·'\",\n",
        "    \"Man dangling an object on a string. 'This is a man who knows how to bod. He is bodding. He did the same thing yesterday. What did he do yesterday? Yesterday he __·'\",\n",
        "    \"Man shaking an object. 'This is a man who knows how to naz. He is nazzing. He does it every day. Every day he __·'\",\n",
        "    \"One insect, then two. 'This is a heaf. Now there is another one. There are two of them. There are two __·'\",\n",
        "    \"Man exercising. 'This is a man who knows how to gling. He is glinging. He did the same thing yesterday. What did he do yesterday? Yesterday he __·'\",\n",
        "    \"Man holding an object. 'This is a man who knows how to loodge. He is loodging. He does it every day. Every day he __·'\",\n",
        "    \"Man standing on the ceiling. 'This is a man who knows how to bing. He is binging. He did the same thing yesterday. What did he do yesterday? Yesterday he __·'\",\n",
        "    \"One animal wearing a hat, then two wearing hats. 'This is a niz who owns a hat. Whose hat is it? It is the __ hat. Now there are two nizzes. They both own hats. Whose hats are they? They are the __ hats.'\",\n",
        "    \"Man balancing a ball on his nose. 'This is a man who knows how to zib. What is he doing? He is __· What would you call a man whose job is to zib?'\",\n",
        "]"
      ],
      "metadata": {
        "id": "EI8VGFznjgIT"
      },
      "execution_count": null,
      "outputs": []
    },
    {
      "cell_type": "code",
      "source": [
        "output = open('translation-french-gpt-4.txt','w')\n",
        "\n",
        "for question_number, question in enumerate(wug_test_original):\n",
        "  response = client.chat.completions.create(\n",
        "  model=\"gpt-4\",\n",
        "  messages=[\n",
        "    {\"role\": \"user\",\n",
        "     \"content\": \"Translate the following paragraph into Spanish except for the unknown word: \" + question}\n",
        "  ]\n",
        "  )\n",
        "  print(response.choices[0].message.content)\n",
        "  output.write(f\"## Wug Q{question_number + 1}:\\n\")\n",
        "  output.write(question)\n",
        "  output.write('\\n')\n",
        "  output.write(response.choices[0].message.content)\n",
        "  output.write('\\n')\n",
        "  output.write('\\n---\\n')\n",
        "\n",
        "output.close()"
      ],
      "metadata": {
        "id": "OaX1EKMKlt81"
      },
      "execution_count": null,
      "outputs": []
    },
    {
      "cell_type": "markdown",
      "source": [
        "# Run the Wug's test on LLMs"
      ],
      "metadata": {
        "id": "dep_QhMTlZqy"
      }
    },
    {
      "cell_type": "code",
      "source": [
        "wug_test = []\n",
        "with open(\"translation_portuguese_final.txt\", \"r\") as german_wug_test:\n",
        "  for line in german_wug_test:\n",
        "    wug_test.append(line.replace(\"\\n\", \"\"))\n",
        "print(wug_test)\n",
        "print(len(wug_test))\n",
        "fantasy_word_portuguese = ['wug','gutch','spow','kazh','rick','wug','tor','lun','niz','mot','kra','tass','bod','naz','heaf','gling','loodge', 'bingu','niz','zib']\n",
        "fantasy_word_spanish = []\n",
        "text_word  = pd.DataFrame(list(zip(wug_test, fantasy_word_portuguese)),columns =['text', 'word'])\n",
        "text_word"
      ],
      "metadata": {
        "id": "ZomJUMa_VhDD"
      },
      "execution_count": null,
      "outputs": []
    },
    {
      "cell_type": "code",
      "source": [
        "gpt_35 = \"gpt-3.5-turbo-0613\"\n",
        "gpt_4 = \"gpt-4-0613\"\n",
        "output = open('output_portuguese_gpt-3.5-turbo-0613.txt','w') # change output file name\n",
        "\n",
        "for question_number, question in enumerate(wug_test):\n",
        "  word = text_word['word'][question_number] # change language\n",
        "  prompt = f\"Assuming that {word} is a Portuguese word, read the following paragraph and replace the underscores with a suitable word form of {word}\"\n",
        "  response = client.chat.completions.create(\n",
        "    model=gpt_35, # changle model\n",
        "    messages=[\n",
        "      {\"role\": \"user\",\n",
        "      \"content\": prompt + question}\n",
        "  ]\n",
        ")\n",
        "  print(response.choices[0].message.content)\n",
        "  output.write(f\"## Wug Q{question_number}:\\n\")\n",
        "  output.write(question)\n",
        "  output.write('\\n')\n",
        "  output.write(response.choices[0].message.content)\n",
        "  output.write('\\n')\n",
        "  output.write('\\n---\\n')\n",
        "\n",
        "output.close()"
      ],
      "metadata": {
        "id": "mWA6G-gHQDy1"
      },
      "execution_count": null,
      "outputs": []
    }
  ]
}