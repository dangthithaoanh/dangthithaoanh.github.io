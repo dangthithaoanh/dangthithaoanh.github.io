{
  "nbformat": 4,
  "nbformat_minor": 0,
  "metadata": {
    "colab": {
      "provenance": []
    },
    "kernelspec": {
      "name": "python3",
      "display_name": "Python 3"
    },
    "language_info": {
      "name": "python"
    }
  },
  "cells": [
    {
      "cell_type": "markdown",
      "source": [
        "# How Words Are Represented In NLP Systems"
      ],
      "metadata": {
        "id": "HcOoJlYuC786"
      }
    },
    {
      "cell_type": "markdown",
      "source": [
        " NLP systems such as large language models (e.g., GPT-3.5, Claude) can do a wide range of language tasks, from assigning labels to text to writing an essay. In order to do that, the systems must have an efficient way to process language. The computers can only understand numbers. Therefore, it is crucial to convert text into numbers and ensure that those numbers reflect the important properties of the text it represents. The subsections below, I will explain the steps to achieve this. Traditional and mordern techniques are presented. I will also discuss the strength and weakness of each approach.\n"
      ],
      "metadata": {
        "id": "UWLTv1889cVv"
      }
    },
    {
      "cell_type": "markdown",
      "source": [
        "## Character Encoding"
      ],
      "metadata": {
        "id": "PPCII5-i9MfW"
      }
    },
    {
      "cell_type": "markdown",
      "source": [
        "In order for the computer to do the tasks, the data must be in a certain numerical format which readable by the computer. Character encoding in English is straightforward because English words consists of distinct characters and each one can be represented by a unique code.\n",
        "\n",
        "In NLP, character encoding is often performed according to UTF-8 (Unicode Transformation Format-8), one of the encoding system developed by the Unicode Stanfard. It is a variable-length character encoding system that convert each character into one or more byte, depending on how many features it has. A word, which usually consists of several characters is encoded as a sequence of bytes, called a byte-string. The code cells below illustrate how words in different languages are encoded using UTF-8."
      ],
      "metadata": {
        "id": "NKoKg5kW9YhZ"
      }
    },
    {
      "cell_type": "code",
      "source": [
        "# Cell 1\n",
        "english_word = 'time'\n",
        "encoding3 = english_word.encode('utf-8')\n",
        "print(\"The byte-string for 'time' is: \" + str(encoding3))\n",
        "utf8_encoding = [byte for byte in encoding3]\n",
        "print(\"The utf-8 encoding for 'time' is: \"+ str(utf8_encoding))"
      ],
      "metadata": {
        "id": "lCSJo4LaEZqV"
      },
      "execution_count": null,
      "outputs": []
    },
    {
      "cell_type": "code",
      "source": [
        "# Output: Cell 1\n",
        "# The byte-string for 'time' is: b'time'\n",
        "# The utf-8 encoding for 'time' is: [116, 105, 109, 101]"
      ],
      "metadata": {
        "id": "i1eqrKjBj6ZJ"
      },
      "execution_count": null,
      "outputs": []
    },
    {
      "cell_type": "code",
      "source": [
        "# Cell 2\n",
        "vietnamese_word = \"tuần\"\n",
        "encoding2 = vietnamese_word.encode('utf-8')\n",
        "print(\"The byte-string for 'tuần' is: \" + str(encoding2))\n",
        "utf8_encoding2 = [byte for byte in encoding2]\n",
        "print(\"The utf-8 encoding for 'time' is: \"+ str(utf8_encoding2))"
      ],
      "metadata": {
        "id": "vAWsY2QjD-Ee"
      },
      "execution_count": null,
      "outputs": []
    },
    {
      "cell_type": "code",
      "source": [
        "# Output: Cell 2\n",
        "# The byte-string for 'tuần' is: b'tu\\xe1\\xba\\xa7n'\n",
        "# The utf-8 encoding for 'time' is: [116, 117, 225, 186, 167, 110]"
      ],
      "metadata": {
        "id": "xcNVb8g1kOyW"
      },
      "execution_count": null,
      "outputs": []
    },
    {
      "cell_type": "markdown",
      "source": [
        "Cell 1 illustrate how character encoding is for the English language. b'time' represents the UTF-8 encoding of the word 'time'. The actual encoding of 'time' is the string of numerical value [116, 105, 109, 101]. Every English word, or more generally, word in the Latin alphabet is encoded straightforwardly as one byte. However, other language which use Latin alphabet but with tone marks such as Vietnamese, German, and French cause a challenge to character encoding. In cell 2, the Vietnamese word 'tuần' (week) also has four characters. However, the character 'ầ' has two tone marks. Therefore, two more bytes are needed to represent this character, resulting in a total six of bytes for the word 'tuần'.\n",
        "\n"
      ],
      "metadata": {
        "id": "UO2c3EIoJnOf"
      }
    },
    {
      "cell_type": "code",
      "source": [
        "# Cell 3\n",
        "hebrew_word = \"אגס\"\n",
        "hebrew_char = 'ס'\n",
        "encoding4 = hebrew_word.encode('utf-8')\n",
        "utf8_encoding4 = [byte for byte in encoding4]\n",
        "encoding5 = hebrew_char.encode('utf-8')\n",
        "utf8_encoding5 = [byte for byte in encoding5]\n",
        "print(encoding4)\n",
        "print(utf8_encoding4)\n",
        "print(utf8_encoding5)"
      ],
      "metadata": {
        "colab": {
          "base_uri": "https://localhost:8080/"
        },
        "id": "4_WqjNrk-VtR",
        "outputId": "33cbb65c-abbc-447f-9bea-9f0c2c702dec"
      },
      "execution_count": null,
      "outputs": [
        {
          "output_type": "stream",
          "name": "stdout",
          "text": [
            "b'\\xd7\\x90\\xd7\\x92\\xd7\\xa1'\n",
            "[215, 144, 215, 146, 215, 161]\n",
            "[215, 161]\n"
          ]
        }
      ]
    },
    {
      "cell_type": "code",
      "source": [
        "# Output: Cell 3\n",
        "# b'\\xd7\\x90\\xd7\\x92\\xd7\\xa1'\n",
        "# [215, 144, 215, 146, 215, 161]\n",
        "# [215, 161]"
      ],
      "metadata": {
        "id": "DKiNVJymfyqg"
      },
      "execution_count": null,
      "outputs": []
    },
    {
      "cell_type": "code",
      "source": [
        "# Cell 4\n",
        "hebrew_char2 = 'בָּיִ'\n",
        "encoding6 = hebrew_char2.encode('utf-8')\n",
        "utf8_encoding6 = [byte for byte in encoding6]\n",
        "print(utf8_encoding6)"
      ],
      "metadata": {
        "id": "vY8dANuZRhDr"
      },
      "execution_count": null,
      "outputs": []
    },
    {
      "cell_type": "code",
      "source": [
        "# Output Cell 4\n",
        "# [215, 145, 214, 184, 214, 188, 215, 153, 214, 180]"
      ],
      "metadata": {
        "id": "hkPICJQpfLOp"
      },
      "execution_count": null,
      "outputs": []
    },
    {
      "cell_type": "markdown",
      "source": [
        "Languages with different orthographical system like Hebrew, Thai, Russian, and Arabic also pose a computational problem to character encoding. In Cell 3, the Hebrew word 'אגס', meaning 'pear', require six bytes to represent although it only has three characters. Moreover, some Hebrew words have diacritics and ligatures, which require some more bytes to encode. Using more bytes make the encoding process more computationally expensive and cause problem for other tasks such as slicing, indexing, and tokenizing because the additional bytes may blur the boundaries between the characters. In addition, unlike other languages, Hebrew character, words, and sentences are read from left to right. This characteristic challenge the encoding task. From the code cell, it can be seen that Hebrew characters are also encoded from left to right. However, in some cases, Hebrew words may be accompanied by Roman numerals, then they must be read from left to right. Such inconsistencies may cause confusion to the encoding task."
      ],
      "metadata": {
        "id": "CnH_upPlHPn5"
      }
    },
    {
      "cell_type": "code",
      "source": [
        "# Cell 5\n",
        "chinese_word  = '龍'\n",
        "encoding7 =  chinese_word.encode('utf-8')\n",
        "print(encoding7)\n",
        "utf8_encoding7 = [byte for byte in encoding7]\n",
        "print(utf8_encoding7)"
      ],
      "metadata": {
        "colab": {
          "base_uri": "https://localhost:8080/"
        },
        "id": "vgx4pcSI1HHB",
        "outputId": "75279701-b2be-4198-dc80-7e48ca4bdb58"
      },
      "execution_count": null,
      "outputs": [
        {
          "output_type": "stream",
          "name": "stdout",
          "text": [
            "b'\\xe9\\xbe\\x8d'\n",
            "[233, 190, 141]\n"
          ]
        }
      ]
    },
    {
      "cell_type": "code",
      "source": [
        "# Output cell 5\n",
        "# b'\\xe9\\xbe\\x8d'\n",
        "# [233, 190, 141]"
      ],
      "metadata": {
        "id": "jWEmOHeanVDT"
      },
      "execution_count": null,
      "outputs": []
    },
    {
      "cell_type": "markdown",
      "source": [
        "In some logographic languages, such as Chinese, a character can consist of a few letters. Assigning each unique character to a byte-string is computationally expensive. In addition, in the case of Chinese, a character can have two different forms, which are traditional and simplified forms. This also create problems with mappings.\n",
        "\n",
        "https://arxiv.org/pdf/1805.03330.pdf\n",
        "(solution for encoding Chinese character)"
      ],
      "metadata": {
        "id": "FovZTa10p6J4"
      }
    },
    {
      "cell_type": "markdown",
      "source": [
        "## Text Normalization"
      ],
      "metadata": {
        "id": "JnLG9aTi9bNh"
      }
    },
    {
      "cell_type": "markdown",
      "source": [
        "### Tokenization"
      ],
      "metadata": {
        "id": "jhKAJkpv3WoD"
      }
    },
    {
      "cell_type": "markdown",
      "source": [
        "Tokenization is the process of transforming text into meaningful segments, called tokens, that the computer can distinguish the linguistic units in the data. Tokenization is a part of text normalization process, which aims to transform raw text data into a standardized format that is understandable by the computer.\n",
        "\n",
        "There are several methods to tokenize text. The most basic approach is to treat one word as a token. In English, tokenization can be done by splitting text by the white space character. The code cell below show the UNIX tool for tokenization works in English."
      ],
      "metadata": {
        "id": "9L2CuGi_9tw-"
      }
    },
    {
      "cell_type": "markdown",
      "source": [
        "#### Word Tokenization"
      ],
      "metadata": {
        "id": "ZZmYif9PopF8"
      }
    },
    {
      "cell_type": "markdown",
      "source": [
        "In practice, one of the oldest approach to tokenization is the UNIX tools. It works the same as the code in Cell 6 but is implemented by a Unix command 'tr'. It replaces everything that is not Latin letters into newline characters. This results in a list of types separated by lines and the number of tokens of the respective types. However, this method has a lot of problems. It removes important elements of the text, such as number, special characters and punctuations. These elements are nessesary to expresses non-word entities such as dates, websites, and hashtags. In addition, it does not allow for multiword expression such as idioms."
      ],
      "metadata": {
        "id": "ZbfNANvku48g"
      }
    },
    {
      "cell_type": "code",
      "source": [
        "# Cell 6\n",
        "import re\n",
        "\n",
        "text = \"In in practice, these embedding vectors have 1000 dimensions, and and capture the the semantic similarities and relationships between the words.\"\n",
        "word_count = {}\n",
        "words = re.findall(r'\\b\\w+\\b', text.lower())\n",
        "for word in words:\n",
        "    word = re.sub(r'[^a-z]', '', word)\n",
        "    if word:\n",
        "        word_count[word] = word_count.get(word, 0) + 1\n",
        "        print(str(word_count[word]) + \"  \" + word)\n"
      ],
      "metadata": {
        "id": "ko5JI57EYe5A"
      },
      "execution_count": null,
      "outputs": []
    },
    {
      "cell_type": "code",
      "source": [
        "# Output cell 6\n",
        "# 1  in\n",
        "# 2  in\n",
        "# 1  practice\n",
        "# 1  these\n",
        "# 1  embedding\n",
        "# 1  vectors\n",
        "# 1  have\n",
        "# 1  dimensions\n",
        "# 1  and\n",
        "# 2  and\n",
        "# 1  capture\n",
        "# 1  the\n",
        "# 2  the\n",
        "# 1  semantic\n",
        "# 1  similarities\n",
        "# 3  and\n",
        "# 1  relationships\n",
        "# 1  between\n",
        "# 3  the\n",
        "# 1  words"
      ],
      "metadata": {
        "id": "LzTW_PMum4X7"
      },
      "execution_count": null,
      "outputs": []
    },
    {
      "cell_type": "markdown",
      "source": [
        "However, in many cases, whitespace is not sufficient to be token boundary and single words may not be meaningful enough to represent tokens. For example, proper names such as Golden Gate Bridge are beter treated as one token rather than three. In these cases, an algorithm called named entity recogition is usually applied to recognize unique multiword entities like proper names, events, and dates.  Another method to tokenize word is to use regular expression, a language to search for text pattern. The Pentreebank tokenizer is a well-known example of this method. Negative marks like 'doesn't' is tokenize into 'does' and 'n't'.   "
      ],
      "metadata": {
        "id": "7-RdspFeafKV"
      }
    },
    {
      "cell_type": "code",
      "source": [
        "# Cell 7\n",
        "import nltk\n",
        "from nltk.tokenize import TreebankWordTokenizer\n",
        "sentence = \"She doesn't have 1$ after three days in San Francisco.\"\n",
        "TreebankWordTokenizer().tokenize(sentence)"
      ],
      "metadata": {
        "id": "qlcWlTcagbmy"
      },
      "execution_count": null,
      "outputs": []
    },
    {
      "cell_type": "code",
      "source": [
        "# Output: Cell 7\n",
        "#['She','does',\"n't\",'have','1','$','after','three','days','in','San','Francisco','.']"
      ],
      "metadata": {
        "id": "ng7HHTyFmcrb"
      },
      "execution_count": null,
      "outputs": []
    },
    {
      "cell_type": "markdown",
      "source": [
        "Word tokenization is effective and simple for tasks that require processing at word level such as text classification, sentiment analysis, and named entity recogntion. It is effective for languages which has clear word boundary like English and other Indo-European languages. However, languages rich morphological systems can cause difficulty to the tokenization task. Words can have prefixes and suffixes, which carry meaning. Therefore, they should be encoded so that further NLP models can understand the morphological knowledge of languages.     \n",
        "\n"
      ],
      "metadata": {
        "id": "j5He59XQiqtb"
      }
    },
    {
      "cell_type": "markdown",
      "source": [
        "#### Subword Tokenization"
      ],
      "metadata": {
        "id": "UXGQ8eEbo2mj"
      }
    },
    {
      "cell_type": "markdown",
      "source": [
        "Recently, it is more common to NLP researchers to do ***sub-word tokenization***, which means that words are segmented into smaller units. This approach has advantages over traditional word tokenization. First, it helps the system understand morphology. Second, it helps dealing with out-of-vocabulary words by segmenting the part of words that is known to the model.  \n",
        "\n",
        "Several algorithms have been proposed to do sub-word tokenization. The subsections below decribe each althorithm in detail. There are byte-fair encoding, wordpiece encoding, and unigram language modeling (Jurafsky and Martin 2023, p.xx)."
      ],
      "metadata": {
        "id": "NL_oO7v3k_Lf"
      }
    },
    {
      "cell_type": "markdown",
      "source": [
        "##### Byte-Pair Encoding Tokenization (BPE)\n",
        "\n",
        "BPE is one of the most common tokenization algorithms in morden NLP. It is used by many Tranformer-based models. BPE works by merging the most frequent sequences of characters into a larger sub-word within a word and building a vocabulary consisting of meaningful sub-words. The starting point is the character strings that have been separated by the white space character, so-called words. Each character is considered as a token. The algorithm will first select the most frequent adjacent characters in the training corpus and treat them as a single token. Then this 2-character token is frequntly occur with another character and they are merged into another single token. The same procedure applies to the rest of the characters.\n",
        "\n",
        "It is important to note that BPE only works within word boundaries. This mean that two adjacent characters separated by white space are not merged. This way, it can learn the prefixes and suffixes of words. It can effectively recognize that -ment and -ous, for example, are common sub-word. This method work well for aggutinative languages such as English and German, which use affixes to express grammatical and semantic relations. BPE does not work exactly the same way for isolated languages such as Chinese and Vietnamese because they do not have subwords. It will likely to treat sequences of characters separated by white space as a single token.\n",
        "\n",
        "In principle, it does not work with multiword expressions such as idioms. The code cell below demonstrate how BPE works on GPT-3.5 turbo model. The BPE tokenizer is used by GPT-3.5 turbo is called *tiktoken*."
      ],
      "metadata": {
        "id": "dOpu8h4jV_qK"
      }
    },
    {
      "cell_type": "code",
      "source": [
        "# Cell 8\n",
        "!pip install --upgrade tiktoken\n",
        "!pip install --upgrade openai"
      ],
      "metadata": {
        "id": "AnWNLInFFVej"
      },
      "execution_count": null,
      "outputs": []
    },
    {
      "cell_type": "code",
      "source": [
        "# Cell 9\n",
        "import tiktoken\n",
        "encoding = tiktoken.get_encoding('p50k_base')"
      ],
      "metadata": {
        "id": "foOVfuPaGM7W"
      },
      "execution_count": null,
      "outputs": []
    },
    {
      "cell_type": "code",
      "source": [
        "# Cell 10\n",
        "byte_string_eng = encoding.encode(\"His disrespectfullness is very annoying!\")\n",
        "byte_string_eng_unknown = encoding.encode(\"The wug is tassing me.\")\n",
        "byte_string_vie = encoding.encode(\"Sự phát triển của trí tuệ nhân tạo đang rất mạnh mẽ.\")\n",
        "token_list_eng =  [encoding.decode_single_token_bytes(token) for token in byte_string_eng]\n",
        "token_list_vie =  [encoding.decode_single_token_bytes(token) for token in byte_string_vie]\n",
        "token_list_eng_unknown =  [encoding.decode_single_token_bytes(token) for token in byte_string_eng_unknown]\n",
        "print(token_list_eng)\n",
        "print(token_list_vie)\n",
        "print(token_list_eng_unknown)"
      ],
      "metadata": {
        "id": "F_GtkGuBGcRs"
      },
      "execution_count": null,
      "outputs": []
    },
    {
      "cell_type": "code",
      "source": [
        "# Output: Cell 10\n",
        "# [b'His', b' disrespect', b'full', b'ness', b' is', b' very', b' annoying', b'!']\n",
        "# [b'S', b'\\xe1', b'\\xbb', b'\\xb1', b' ph', b'\\xc3\\xa1', b't', b' tri', b'\\xe1', b'\\xbb', b'\\x83', b'n', b' c', b'\\xe1', b'\\xbb', b'\\xa7', b'a', b' tr', b'\\xc3\\xad', b' tu', b'\\xe1', b'\\xbb', b'\\x87', b' n', b'h', b'\\xc3\\xa2', b'n', b' t', b'\\xe1', b'\\xba', b'\\xa1', b'o', b' \\xc4', b'\\x91', b'ang', b' r', b'\\xe1', b'\\xba', b'\\xa5', b't', b' m', b'\\xe1', b'\\xba', b'\\xa1', b'n', b'h', b' m', b'\\xe1', b'\\xba', b'\\xbd', b'.']\n",
        "# [b'The', b' w', b'ug', b' is', b' t', b'assing', b' me', b'.']"
      ],
      "metadata": {
        "id": "2tGSDOgElzuo"
      },
      "execution_count": null,
      "outputs": []
    },
    {
      "cell_type": "markdown",
      "source": [
        "From the output of the code cell, the BPE algorithm works well for English. It tokenize the morphologically complex word \"disrespectfullness\" into the morphemes \"disrespect\", \"full\", and \"ness\". The second output show how it deals with the unknown words \"wug\" and \"tassing\". \"wug\" is tokenized into \"w\" and \"ug\" because \"ug\" is a more common combination, as in \"ugly\" and \"bug\". For \"tassing\", it is segmented into \"t\" and \"assing\" as in \"embarassing\" and \"harassing\"."
      ],
      "metadata": {
        "id": "7xjX1D1yli0L"
      }
    },
    {
      "cell_type": "markdown",
      "source": [
        "##### Unigram Tokenization"
      ],
      "metadata": {
        "id": "I2NSXzaftRmL"
      }
    },
    {
      "cell_type": "markdown",
      "source": [
        "Another method for tokenization is Unigram model. It works based on the rule of probability. This means that the set of characters which have the highest probability are grouped into one token. This algorithm assumes that characters are independent from each other. According the rule of probability. If the events are independent from each other, then probability of observing the events occuring together is the product of their probabilities. Thus, the probability of the word \"time\" is equal to the product of the probabilities of \"t\", \"i\", \"m\", and \"e\", as shown in the following equation.\n",
        "\n"
      ],
      "metadata": {
        "id": "71FpWgOMknDT"
      }
    },
    {
      "cell_type": "markdown",
      "source": [
        "$$\n",
        "P('time') = P('t') * P('i') * P('m') * P('e')\n",
        "$$"
      ],
      "metadata": {
        "id": "5rN6Gkm1OYRg"
      }
    },
    {
      "cell_type": "markdown",
      "source": [
        "When the"
      ],
      "metadata": {
        "id": "rxWHPFdbgnkY"
      }
    },
    {
      "cell_type": "code",
      "source": [],
      "metadata": {
        "id": "3uvU6VZtTBbw"
      },
      "execution_count": null,
      "outputs": []
    },
    {
      "cell_type": "markdown",
      "source": [
        "##### WordPiece Tokenization"
      ],
      "metadata": {
        "id": "4V1W6NrltYSy"
      }
    },
    {
      "cell_type": "markdown",
      "source": [
        "WordPiece is the sub-word tokenization algorithm used for BERT. It words relatively similar to BPE in the way that it first split all characters in a word, then merge certain characters to form a sub-word unit. However, the way it merge characters is different from BPE. It combines the pair of characters that when the probability of them being together is higher than the product of the probabilities of them being alone."
      ],
      "metadata": {
        "id": "JkKy5cOjU0PO"
      }
    },
    {
      "cell_type": "markdown",
      "source": [
        "#### Character-Based Tokenization"
      ],
      "metadata": {
        "id": "BK-FHw7wpFdy"
      }
    },
    {
      "cell_type": "markdown",
      "source": [
        "In some languages, the word boundaries are not clear. In Chinese, some characters such as \"天\", meaning sky or \"好\", meaning good, are single words. However, some words consist of two or more characters. Thus, it is more effective to treat each character as a token. The code cell below demonstrates how to do this."
      ],
      "metadata": {
        "id": "NyWLd2mn51Ci"
      }
    },
    {
      "cell_type": "code",
      "source": [
        "# Cell 11\n",
        "chinese_text = \"今天天气很好，我们去公园。\"\n",
        "chinese_characters = [char for char in chinese_text]\n",
        "print(\"Tokenized Chinese characters:\")\n",
        "print(chinese_characters)"
      ],
      "metadata": {
        "id": "PekYfBzC9Nzc"
      },
      "execution_count": null,
      "outputs": []
    },
    {
      "cell_type": "code",
      "source": [
        "# Output Cell 11\n",
        "# Tokenized Chinese characters:\n",
        "# ['今', '天', '天', '气', '很', '好', '，', '我', '们', '去', '公', '园', '。']"
      ],
      "metadata": {
        "id": "sIdmSK5p9cz8"
      },
      "execution_count": null,
      "outputs": []
    },
    {
      "cell_type": "markdown",
      "source": [
        "### Lemmatization and Stemming\n",
        "\n",
        "\n",
        "\n",
        "\n"
      ],
      "metadata": {
        "id": "I9wPwe129vnt"
      }
    },
    {
      "cell_type": "markdown",
      "source": [
        " Agglutinative language are morphologically complex. Their words usuallyconsists of multiple morphemes, including a base and one or more affixes, which can be prefixes or suffixes. In some NLP tasks, it is common to make the system recognize that some words have the same base so their meanings are closely related. Lemmatization is the task of stemming affixes from the words, only keeping the base. The cell below shows how it is implemented using the Porter Stemmer."
      ],
      "metadata": {
        "id": "sAGxvcLfnOKA"
      }
    },
    {
      "cell_type": "code",
      "source": [
        "# Cell 12\n",
        "from nltk.stem import *\n",
        "stemmer = PorterStemmer()\n",
        "word_list = ['bags','students','studying','moved','developing','estimation']\n",
        "word_stemed = [stemmer.stem(word) for word in word_list]\n",
        "print(word_stemed)"
      ],
      "metadata": {
        "id": "7u3wTgLZfcl6"
      },
      "execution_count": null,
      "outputs": []
    },
    {
      "cell_type": "code",
      "source": [
        "# Cell 12: Output\n",
        "# ['bag', 'student', 'studi', 'move', 'develop', 'estim']"
      ],
      "metadata": {
        "id": "mmh_5H-ikR6q"
      },
      "execution_count": null,
      "outputs": []
    },
    {
      "cell_type": "markdown",
      "source": [
        "The output shows that the stemmer successfully remove the affixes for most words. It removed the morpheme -s, -ed, and -ing from the words. In some cases it incorrectly stemmed the words, as with 'studi' and 'estim'.  "
      ],
      "metadata": {
        "id": "8wtgilcrfaep"
      }
    },
    {
      "cell_type": "markdown",
      "source": [
        "### Parsing"
      ],
      "metadata": {
        "id": "NRrmV2br952t"
      }
    },
    {
      "cell_type": "markdown",
      "source": [
        "Apart from words, there are larger units of text. The most basic one is sentences. Many sentences are separated by a period \".\" but some types of sentences may end in other special characters, such as \"!\" and \"?\". In NLP, it is important to help the computer understand that each sentence carry a certain meaning. The task of segmenting text into sentences is called parsing. Intuitively, it is possible to split text by \".\", \"!\", and \"?\". However, sometimes this basic approach is problematic because these characters do not always mark the end of a sentence. For examole, decimal numbers contain periods (e.g., 0.5). A more linguistically-driven approach is to segment sentences based on the relationship between words, called dependency parsing or constituency parsing. The algorithm first assigns a part-of-speech to each token in the sentence. This task is called part-of-speech tagging. It aims to identify the syntactic relationship between words. The code below shows how this can be done using spacy."
      ],
      "metadata": {
        "id": "5Pi1uMvclvNf"
      }
    },
    {
      "cell_type": "code",
      "source": [
        "# Cell 13\n",
        "import spacy\n",
        "nlp = spacy.load(\"en_core_web_sm\")\n",
        "text = \"I want to take over the housing contract. The room is beautiful and bright\"\n",
        "doc = nlp(text)\n",
        "for token in doc:\n",
        "    print(token.text, token.dep_,\n",
        "          [child for child in token.children])"
      ],
      "metadata": {
        "id": "-xoNPP0KZe80"
      },
      "execution_count": null,
      "outputs": []
    },
    {
      "cell_type": "code",
      "source": [
        "# Cell 13: Output\n",
        "# I nsubj []\n",
        "# want ROOT [I, take, .]\n",
        "# to aux []\n",
        "# take xcomp [to, over, contract]\n",
        "# over prt []\n",
        "# the det []\n",
        "# housing compound []\n",
        "# contract dobj [the, housing]\n",
        "# . punct []\n",
        "# The det []\n",
        "# room nsubj [The]\n",
        "# is ROOT [room, beautiful]\n",
        "# beautiful acomp [and, bright]\n",
        "# and cc []\n",
        "# bright conj []"
      ],
      "metadata": {
        "id": "MzQvLDpye4Yh"
      },
      "execution_count": null,
      "outputs": []
    },
    {
      "cell_type": "markdown",
      "source": [
        "### Case Folding"
      ],
      "metadata": {
        "id": "KaK77WRL2Sm9"
      }
    },
    {
      "cell_type": "markdown",
      "source": [
        "The computer are not sensitive to case. It treats Los Angeles and los angeles as two different types. However, in certain tasks such as named entity recognition and information retrieval, it is important to help the computer recognizes that they refer to the same entity. Therefore, it is helpful to convert all text into either uppercase or lowercase. Lowercase is most often chosen. Moreover, convert the text into a standard case helps save computational resources. The code cell below demonstrate how case folding can be conducted."
      ],
      "metadata": {
        "id": "hLNXBoVT3MHN"
      }
    },
    {
      "cell_type": "code",
      "source": [
        "# Cell 14\n",
        "text_case = \"ThE QuicK bRoWn Fox JumPs OVeR The LazY Dog.\"\n",
        "folded_text = text_case.lower()\n",
        "print(\"Case Folded Text:\", folded_text)"
      ],
      "metadata": {
        "id": "LSwpph_86d7I"
      },
      "execution_count": null,
      "outputs": []
    },
    {
      "cell_type": "code",
      "source": [
        "# Cell 14: Output\n",
        "# Case Folded Text: the quick brown fox jumps over the lazy dog."
      ],
      "metadata": {
        "id": "THjvMRl4jdQa"
      },
      "execution_count": null,
      "outputs": []
    },
    {
      "cell_type": "markdown",
      "source": [
        "However, in some cases, it is not needed to do case folding. In tasks like sentiment analysis, cases may carry emotions. Words with uppercase may indicate strong emotions or emphasis. Therefore, cases should be remained in such tasks. Uppercase words may be the abbreviation of longer phrases so doing case folding may alter the meaning of such words. For example, TELL is the short form of Technology-Enhanced Language Learning. If it is reduced to lowercase, it becomes a totally different word. Another situation that case folding should not be done is when the language itself is case-sensitive. For instance, German nouns are always captitalized, so cases signal the part of speech of the word. Avoiding standardizing cases would help the NLP system learn the language and produce it with the correct capitalization norm."
      ],
      "metadata": {
        "id": "CwmcLCF37Bpx"
      }
    },
    {
      "cell_type": "markdown",
      "source": [
        "### Stopword Removal\n"
      ],
      "metadata": {
        "id": "F_Kf_CVu2XDb"
      }
    },
    {
      "cell_type": "markdown",
      "source": [
        "Common function words like 'the', 'a/an', and 'and' are often removed because they do not carry much meaning and thus are not useful for NLP tasks. The code cell below demonstrates how to remove these words using NLTK."
      ],
      "metadata": {
        "id": "VzonC82YtLK2"
      }
    },
    {
      "cell_type": "code",
      "source": [
        "# Cell 15\n",
        "import nltk\n",
        "from nltk.corpus import stopwords\n",
        "from nltk.tokenize import TreebankWordTokenizer\n",
        "nltk.download('stopwords')\n",
        "nltk.download('punkt')"
      ],
      "metadata": {
        "colab": {
          "base_uri": "https://localhost:8080/"
        },
        "id": "D46BXSuolHc7",
        "outputId": "35f82f05-91e6-494b-e6ce-b2d5812816b5"
      },
      "execution_count": null,
      "outputs": [
        {
          "output_type": "stream",
          "name": "stderr",
          "text": [
            "[nltk_data] Downloading package stopwords to /root/nltk_data...\n",
            "[nltk_data]   Package stopwords is already up-to-date!\n",
            "[nltk_data] Downloading package punkt to /root/nltk_data...\n",
            "[nltk_data]   Package punkt is already up-to-date!\n"
          ]
        },
        {
          "output_type": "execute_result",
          "data": {
            "text/plain": [
              "True"
            ]
          },
          "metadata": {},
          "execution_count": 10
        }
      ]
    },
    {
      "cell_type": "code",
      "source": [
        "# Cell 16\n",
        "stop_words = set(stopwords.words('english'))\n",
        "word_tokens = TreebankWordTokenizer().tokenize('I am an English teacher in Vietnam.')\n",
        "filtered_sentence = [w for w in word_tokens if not w in stop_words]\n",
        "print(\"Token list:\", filtered_sentence)"
      ],
      "metadata": {
        "colab": {
          "base_uri": "https://localhost:8080/"
        },
        "id": "bw9ngKtut28z",
        "outputId": "cf9650c6-4623-4b3e-d63a-9585824aa932"
      },
      "execution_count": null,
      "outputs": [
        {
          "output_type": "stream",
          "name": "stdout",
          "text": [
            "Token list: ['I', 'English', 'teacher', 'Vietnam', '.']\n"
          ]
        }
      ]
    },
    {
      "cell_type": "code",
      "source": [
        "# Output: Cell 17\n",
        "# Token list: ['I', 'English', 'teacher', 'Vietnam', '.']"
      ],
      "metadata": {
        "id": "DF1zcvfXmwm5"
      },
      "execution_count": null,
      "outputs": []
    },
    {
      "cell_type": "code",
      "source": [
        "# Cell 17\n",
        "print(stopwords.words('english'))"
      ],
      "metadata": {
        "id": "PuLXQ3-BxAwI"
      },
      "execution_count": null,
      "outputs": []
    },
    {
      "cell_type": "code",
      "source": [
        "# Output: Cell 17\n",
        "# ['i', 'me', 'my', 'myself', 'we', 'our', 'ours', 'ourselves', 'you', \"you're\", \"you've\", \"you'll\", \"you'd\", 'your', 'yours', 'yourself', 'yourselves', 'he', 'him', 'his', 'himself', 'she', \"she's\", 'her', 'hers', 'herself', 'it', \"it's\", 'its', 'itself', 'they', 'them', 'their', 'theirs', 'themselves', 'what', 'which', 'who', 'whom', 'this', 'that', \"that'll\", 'these', 'those', 'am', 'is', 'are', 'was', 'were', 'be', 'been', 'being', 'have', 'has', 'had', 'having', 'do', 'does', 'did', 'doing', 'a', 'an', 'the', 'and', 'but', 'if', 'or', 'because', 'as', 'until', 'while', 'of', 'at', 'by', 'for', 'with', 'about', 'against', 'between', 'into', 'through', 'during', 'before', 'after', 'above', 'below', 'to', 'from', 'up', 'down', 'in', 'out', 'on', 'off', 'over', 'under', 'again', 'further', 'then', 'once', 'here', 'there', 'when', 'where', 'why', 'how', 'all', 'any', 'both', 'each', 'few', 'more', 'most', 'other', 'some', 'such', 'no', 'nor', 'not', 'only', 'own', 'same', 'so', 'than', 'too', 'very', 's', 't', 'can', 'will', 'just', 'don', \"don't\", 'should', \"should've\", 'now', 'd', 'll', 'm', 'o', 're', 've', 'y', 'ain', 'aren', \"aren't\", 'couldn', \"couldn't\", 'didn', \"didn't\", 'doesn', \"doesn't\", 'hadn', \"hadn't\", 'hasn', \"hasn't\", 'haven', \"haven't\", 'isn', \"isn't\", 'ma', 'mightn', \"mightn't\", 'mustn', \"mustn't\", 'needn', \"needn't\", 'shan', \"shan't\", 'shouldn', \"shouldn't\", 'wasn', \"wasn't\", 'weren', \"weren't\", 'won', \"won't\", 'wouldn', \"wouldn't\"]"
      ],
      "metadata": {
        "id": "EdTeDMXNnJDq"
      },
      "execution_count": null,
      "outputs": []
    },
    {
      "cell_type": "markdown",
      "source": [
        "Stopwords removal is useful in tasks that require finding out the overall meaning of the text such as topic modeling and information retrieval. However, it is not always necessary to remove stopwords because they may be useful for certain tasks, especially text generation tasks such as machine translation. They help the NLP system learn the language and ensure that the generated text is grammatically correct. In addition, in the list of stopwords, there are words that do have meaning, such as 'doesn't' and 'couldn't'. Thus, removing them may alter the meaning of the text."
      ],
      "metadata": {
        "id": "M6BnJJazu9rF"
      }
    },
    {
      "cell_type": "markdown",
      "source": [
        "# How NLP Tasks Are Performed?\n"
      ],
      "metadata": {
        "id": "HpuPEbpDGdZ4"
      }
    },
    {
      "cell_type": "markdown",
      "source": [
        "After being transformed into numbers, the NLP system takes a large amount of text data and train it to perform certain tasks. The following subsections will present the tasks that can be done by NLP systems and the algorithm that is used for training.\n",
        "\n",
        "\n",
        "\n",
        "\n"
      ],
      "metadata": {
        "id": "LFahU_FEshV_"
      }
    },
    {
      "cell_type": "markdown",
      "source": [
        "## Which kind of tasks can be done by NLP systems?"
      ],
      "metadata": {
        "id": "ySCQJPIDy_VL"
      }
    },
    {
      "cell_type": "markdown",
      "source": [
        "NLP systems can do a wide range of language tasks after being trained on a sufficient amount of data. They can classify text into different categories, translate text, summarize text, and generate various kinds of text that is specific to one's need.\n",
        "\n",
        "\n"
      ],
      "metadata": {
        "id": "Cwj9avUDQxpT"
      }
    },
    {
      "cell_type": "markdown",
      "source": [
        "***Text classification*** is the task of giving a predetermined label to an input. The NLP is trained on a set of labeled data using an algorithm. It can then predict the label of new text by assigning the probabilities to all possible labels and pick the one with the highest probability.\n",
        "\n",
        "*Sentiment analysis:* Text often carry emotions. Some words express positivity while other can give a negative feeling. The task of deciding whether a text input is positve or negative is called sentiment analysis.\n",
        "\n",
        "*Topic modeling:* The task of finding the main topic of a text is called topic modeling.\n",
        "\n",
        "***Text generation:*** The NLP systems can also genenerate new text, depending on the user's input and the training algorithm. State-of-the-art NLP technology such as ChatGPT is able to answer questions, write essays and code, and produce other kinds of text. Below are some of the most important tasks.\n",
        "\n",
        "*Machine translation:* The NLP system can translate text from one language to another.\n",
        "\n",
        "*Text summarization:* The system takes input as a long text and shorten it.\n",
        "\n",
        "\n",
        "\n",
        "In the subsection, I will present the traditional and also the state-of-the-art algorithms that are used to train those systems. I will also demonstrate how text classification and generation can be done by NLP systems.\n",
        "\n",
        "\n",
        "\n"
      ],
      "metadata": {
        "id": "CeAu_yTpbWhY"
      }
    },
    {
      "cell_type": "markdown",
      "source": [
        "### Simple Text Classification with Navie Bayes"
      ],
      "metadata": {
        "id": "BAUuhA-gVfOQ"
      }
    },
    {
      "cell_type": "markdown",
      "source": [
        "One of the traditional algorithm used for text classifiction is the Navie Bayes Classifiers, which is based on Bayes's rule of probability. In the context of text classification, the Bayes's rule aim to find the probability of the posterier probability of the predicted label given the input to the system. Suppose that there is a set of label $ x\n",
        " (x_1, x_2, x_3)$ and a text input y. The probability of the input y has the label $x_2$ is as follows."
      ],
      "metadata": {
        "id": "81ISk2LGio1F"
      }
    },
    {
      "cell_type": "markdown",
      "source": [
        "$$\n",
        "P(x_2|y) = \\frac{P(y|x_2)P(x_2)}{P(y)}\n",
        "$$"
      ],
      "metadata": {
        "id": "2UfeeU6Yekgq"
      }
    },
    {
      "cell_type": "markdown",
      "source": [
        "$P(y|x_2)$ by the likelihood of the text given the label. For example, the likelihood of the word \"policians\" to appear in a food review is lower than the likelihood of the word \"mouth-watering\". $P(x_2)$ is the probability of observing the label $x_2$. This is called the pior probability. This probability can be the ammount of text with the label $x_2$ in the training dataset. Finally, $P(y)$ is the probability of the text $y$ in general. It can be the frequency of the text $y$ in the training corpus.\n",
        "\n",
        "The classification task aims to find the predicted label $x_p$ of the data $y$. Therefore, the system must find the label that has the highest posterior probability. Since $P_y$ is a constant, $x_p$ must be the label that maximize $P(y|x_2)P(x_2)$. Since the text input $y$ denote a set of words, the likelyhood $P(y|x_2)$ becomes the probability of observing all of the individual words $(y_1, y_2, y_3, y_4, y_5,...)$ in the text.  "
      ],
      "metadata": {
        "id": "a7eWlxkdyGtB"
      }
    },
    {
      "cell_type": "markdown",
      "source": [
        "$$\n",
        "x_p = argmax P(y_1, y_2, y_3, y_4, y_5,...|x_2)P(x_2)\n",
        "$$"
      ],
      "metadata": {
        "id": "4ZDlwBK-6FqI"
      }
    },
    {
      "cell_type": "markdown",
      "source": [
        "The Navie Bayes algorithm has an assumption, which is the ***bag-of-word*** assumption. It treats text as a collection of unordered words. Only the words and their counts are considered important. Therefore, the Navie Bayes algorithm is unable to capture the order in which words appear. This assumption results in the independent occurence of words. According to the rule of probability, the probability of a mutiple independent event is the product of the probability of each event. The equation below thus become:"
      ],
      "metadata": {
        "id": "_TfBRcNO9fic"
      }
    },
    {
      "cell_type": "markdown",
      "source": [
        "$$\n",
        "x_p = argmax P(y_1|x_2)P(y_2|x_2)P(y_3|x_2)P(y_4,x_2) P(y_5|x_2)\n",
        "$$"
      ],
      "metadata": {
        "id": "Q8w2n_iXBn3g"
      }
    },
    {
      "cell_type": "markdown",
      "source": [
        "To do text classification using Navie Bayes algorithm, the text first has to be converted into numerical values. Each text input has a unique vector consiting of the words in the text and their counts. The code below shows how to convert text into numerical features for Navie Bayes text classification using the CountVectorizer function in scikit-learn."
      ],
      "metadata": {
        "id": "KgGxsVhTrM2_"
      }
    },
    {
      "cell_type": "code",
      "source": [
        "# Cell 18\n",
        "from sklearn.feature_extraction.text import CountVectorizer\n",
        "sample_reviews= [\n",
        "    \"The movie was great.\",\n",
        "    \"I didn't like the acting.\",\n",
        "    \"Amazing film, fantastic cast!\"\n",
        "]\n",
        "feature_vector = CountVectorizer()\n",
        "X = feature_vector.fit_transform(sample_reviews)\n",
        "feature_names = feature_vector.get_feature_names_out()\n",
        "import pandas as pd\n",
        "pd.DataFrame(X.toarray(), columns=feature_names)"
      ],
      "metadata": {
        "id": "Lg-p2k6Ev9pv"
      },
      "execution_count": null,
      "outputs": []
    },
    {
      "cell_type": "markdown",
      "source": [
        "The output shows a matrix of counts of the words in the entiretext. The first row is the words, and the next three rows, corresponding to the feature vector of the three reviews, is the token counts of the word in each review. However, in practice, stopwords such as 'the' and 'was' are removed before the vectorization. The code block below show how to train a text classification using Navie Bayes algorithm. The training set include 4 movie reviews. They are labeled as either positive or negative. The classifier is then used to predict the sentiment of a movie review. It give 0.9 probability to the negative label and 0.09 for the positive label. Thus, the label with the higher probability is chosen."
      ],
      "metadata": {
        "id": "Gm-m3nBvMKNN"
      }
    },
    {
      "cell_type": "code",
      "source": [
        "# Cell 19\n",
        "from sklearn.feature_extraction.text import CountVectorizer\n",
        "from sklearn.naive_bayes import MultinomialNB\n",
        "training_texts = [\"This is a good movie\",\n",
        "         \"That was a terrible movie\",\n",
        "         \"I like the plot of this book\",\n",
        "         \"I didn't like the characters in the novel\"]\n",
        "\n",
        "labels = ['positive', 'negative', 'positive', 'negative']\n",
        "vectorizer = CountVectorizer()\n",
        "X = vectorizer.fit_transform(training_texts)\n",
        "naive_bayes = MultinomialNB()\n",
        "naive_bayes.fit(X, labels)\n",
        "sentence = \"It was a terrible movie yet the characters are well-developed\"\n",
        "sentence_vector = vectorizer.transform([sentence])\n",
        "predicted_label = naive_bayes.predict(sentence_vector)\n",
        "label_probabilities = naive_bayes.predict_proba(sentence_vector)\n",
        "print(\"Predicted Label:\", predicted_label[0])\n",
        "print(\"Label Probabilities:\", label_probabilities)"
      ],
      "metadata": {
        "colab": {
          "base_uri": "https://localhost:8080/"
        },
        "id": "QHWdREuH3wbg",
        "outputId": "f8cf4541-ff2e-4569-ca98-c1c440fa51f6"
      },
      "execution_count": null,
      "outputs": [
        {
          "output_type": "stream",
          "name": "stdout",
          "text": [
            "Predicted Label: negative\n",
            "Label Probabilities: [[0.90856225 0.09143775]]\n"
          ]
        }
      ]
    },
    {
      "cell_type": "code",
      "source": [
        "# Cell 19: Output\n",
        "# Predicted Label: negative\n",
        "# Label Probabilities: [[0.90856225 0.09143775]]"
      ],
      "metadata": {
        "id": "GQkAqT1Z6RuF"
      },
      "execution_count": null,
      "outputs": []
    },
    {
      "cell_type": "markdown",
      "source": [
        "The Navies Bayes algorithm has several advantages for text classification tasks. Firstly, it is fast and does not require a large amount of training data. Secondly, it can help with both binary and multi-class classification. More importantly, if the features of the input are independent, it can be very sucesssful in classifying data. However, the beg-of-word assumption is not always true. In fact, in the context of text, this assumption is often violated because words are dependent on each other to convey meaning. In addition, this algorithm is unable to handle unknown words. It will give zero probability to any unknown words that the system encounters.\n",
        "\n",
        "Overall, Navie Bayes is good at capturing the gist of the text without concerning the relationship between words, such as sentiment analysis, topic modeling, spam detaction, and authorship attribution."
      ],
      "metadata": {
        "id": "OlQGCFa7Vw1I"
      }
    },
    {
      "cell_type": "markdown",
      "source": [
        "### Transformers\n"
      ],
      "metadata": {
        "id": "-CxwTdjVsVpr"
      }
    },
    {
      "cell_type": "markdown",
      "source": [
        "Besides the classic Navie Bayes algorithm, there is now a more powerful approach, called Transformer. It can do both text classification and generation. It can capture word orders as well as the relationship between words, even long-range dependencies. Modern language models, such as BERT, GPT-3, and GPT-3.5 are built on top of Transformer.\n",
        "\n",
        "Transformer is a neural network architecture that uses a multihead self-attention machenism. Self-attention means that the model is able to process multiple elements of an input simutaneously and compare one element with all of the others to infer the relationship between the current element with the others. In addition, with the multihead self-attention layers, the model can learn different types of relatioships and importances between one element and the others.\n",
        "\n",
        "Another strength of Transformer architechture compared to other algorithm is that it processes words in the order that their appear in the text. Unfortunately, the self-attention mechanism does not consider the order of words, neither neural network architecture. This is done by another task called positional embedding. It gets the position of each word in the text and embeds it into a vector then add it to the embedding of the word. This results in a single embedding that capture both the semantic content of the word and its position.\n",
        "\n",
        "The position of each token in the input is obtained by a position encoding function. The input is the position of the word in the text and dimension of the embedding. The output is a positional embedding with the same dimension. For example, given the sentence \"Time flies like an arrow.\". The word embedding of the word \"time\" is $[0.03, 0.006, 0.275]$ and the positional embedding of the word \"time\" is $[0.1, 0, 0.9]$. These two vectors are added to form a complete embedding of the word \"time\"."
      ],
      "metadata": {
        "id": "nBZOtfVXNieH"
      }
    },
    {
      "cell_type": "code",
      "source": [
        "# Cell 20\n",
        "from transformers import pipeline\n",
        "text_generator = pipeline(\"text-generation\", model=\"gpt2\")\n",
        "generated_text = text_generator(\"I will tell you a story. Yesterday, when I was \")\n",
        "print(generated_text[0]['generated_text'])"
      ],
      "metadata": {
        "id": "B5GRxi78D-Ty",
        "colab": {
          "base_uri": "https://localhost:8080/"
        },
        "outputId": "3fc53b5d-501a-43fa-8d44-e27a585ced34"
      },
      "execution_count": null,
      "outputs": [
        {
          "output_type": "stream",
          "name": "stderr",
          "text": [
            "Setting `pad_token_id` to `eos_token_id`:50256 for open-end generation.\n"
          ]
        },
        {
          "output_type": "stream",
          "name": "stdout",
          "text": [
            "I will tell you a story. Yesterday, when I was  getting to high school in the Bay Area and I was in class with a group of people, I realized my body had begun to shake, and I lost the ability to concentrate.\n"
          ]
        }
      ]
    },
    {
      "cell_type": "code",
      "source": [
        "# Output: Cell 20\n",
        "# I will tell you a story. Yesterday, when I was  getting to high school in the Bay Area and I was in class with a group of people, I realized my body had begun to shake, and I lost the ability to concentrate."
      ],
      "metadata": {
        "id": "ZKCYqNhfqH2v"
      },
      "execution_count": null,
      "outputs": []
    },
    {
      "cell_type": "markdown",
      "source": [
        "The below code cell is an example about how to do text generation with transformer-based model. It did a simple text generate task which takes input as an incomplete paragraph and generate some text to complete it."
      ],
      "metadata": {
        "id": "dd1MeBO5qXG1"
      }
    },
    {
      "cell_type": "markdown",
      "source": [
        "### Probabilistic (N-gram) Language Modeling"
      ],
      "metadata": {
        "id": "dd672A90kr4L"
      }
    },
    {
      "cell_type": "markdown",
      "source": [
        "Another algorithm that works based on the rule of probability is called probabilistic or n-gram language modeling. At the core of this algorithm is the assumption that the probability of a word given the previous n words is independent of the probability of the word given the previous n-1 words. In other words, this follows the chain rule of probability.\n"
      ],
      "metadata": {
        "id": "N_nGLkABfZuj"
      }
    },
    {
      "cell_type": "markdown",
      "source": [
        "$$\n",
        "P(w_n|w_1,...,w_{n-1}) = P(w_1)P(w_2|w_1)P(w_3|w_1,w_2)P(w_n|w_1,...,w_n)\n",
        "$$"
      ],
      "metadata": {
        "id": "DA7oBFKUoFDP"
      }
    },
    {
      "cell_type": "markdown",
      "source": [
        "However, computing the probability of a word given all of the previous words is not very efficient given the large number possible combinations. To solve this problem, the Markov assumption is used. It states that the future event is only dependent on the present. In the context of text generation, this means that the probability of the next word given the previous word is only dependent on the most previous words. Thus, the probability or a word given all of the previous context is roughly equal to the its probability given the previous $i$ words. $i$ is a very small number, normally ranging from 1 to 5. When $i=1$, the model is called unigram language modeling. It is thus called bigram when $i=2$ and trigram when $i=3$. Trigram has been the most common model in NLP because the window size is long enough to capture previous context but short enough to avoid sparsing. Below is the formula of a trigram model.\n",
        "\n"
      ],
      "metadata": {
        "id": "x0lb27C8n-0t"
      }
    },
    {
      "cell_type": "markdown",
      "source": [
        "$$\n",
        "P(w_n|w_1,...,w_{n-1}) = P(w_n|w_{n-1},w_{n-2},w_{n-3})\n",
        "$$"
      ],
      "metadata": {
        "id": "ZSpB2Er_mn3w"
      }
    },
    {
      "cell_type": "markdown",
      "source": [
        "To calculate $P(w_n|w_{n-1},w_{n-2},w_{n-3})$, the model has to divide the count of the sequence ($w_n, w_{n-1},w_{n-2},w_{n-3}$) by the count of the previous sequence ($w_{n-1},w_{n-2},w_{n-3}$). For example, to know the probability of the word \"by\" given the context \"He is bitten\". The model search in the training corpus for every instance \"He is bitten by\" and divide its count to the count of \"He is bitten\". This approach is called ***Maximum Likelihood Estimation.*** The exact formula is showb below. It is taken from Jurafsky and Martin (2023)."
      ],
      "metadata": {
        "id": "VOwMcik73fH5"
      }
    },
    {
      "cell_type": "markdown",
      "source": [
        "$$\n",
        "P('by'|'he', 'is','bitten') = \\frac{Count('he','is','bitten','by')}{Count('he','is','bitten')}\n",
        "$$"
      ],
      "metadata": {
        "id": "MSDp8VPN54ha"
      }
    },
    {
      "cell_type": "code",
      "source": [
        "# Cell 21\n",
        "from nltk import trigrams\n",
        "from nltk.tokenize import word_tokenize\n",
        "training_data = [\n",
        "    \"I love machine learning a lot\",\n",
        "    \"Machine learning is a lot more fascinating\",\n",
        "    \"Learning new things is exciting\",\n",
        "    \"I enjoy learning new concepts\",\n",
        "    \"The learning process is continuous\"\n",
        "]\n",
        "tokenized_data = [word_tokenize(sentence) for sentence in training_data]\n",
        "trigram_model = {}\n",
        "for sentence in tokenized_data:\n",
        "    for w1, w2, w3 in trigrams(sentence, pad_right=True, pad_left=True):\n",
        "        key = (w1, w2)\n",
        "        if key not in trigram_model:\n",
        "            trigram_model[key] = []\n",
        "        trigram_model[key].append(w3)\n",
        "def predict_next_word(word1, word2):\n",
        "    next_words = trigram_model.get((word1, word2))\n",
        "    if next_words:\n",
        "        return max(set(next_words), key=next_words.count)\n",
        "    return None\n",
        "# Test the trigram model by predicting the next word\n",
        "word1 = \"machine\"\n",
        "word2 = \"learning\"\n",
        "predicted_word = predict_next_word(word1, word2)\n",
        "\n",
        "print(f\"The next word after '{word1} {word2}' is '{predicted_word}'\")\n"
      ],
      "metadata": {
        "id": "HmEIpkFHm3iQ",
        "colab": {
          "base_uri": "https://localhost:8080/"
        },
        "outputId": "eee0f8cf-b4ee-4ef8-de50-6a4524c8ff48"
      },
      "execution_count": null,
      "outputs": [
        {
          "output_type": "stream",
          "name": "stdout",
          "text": [
            "The next word after 'machine learning' is 'a'\n"
          ]
        }
      ]
    },
    {
      "cell_type": "code",
      "source": [
        "# Cell 21: Output\n",
        "# The next word after 'machine learning' is 'a'"
      ],
      "metadata": {
        "id": "iY-FA2EB8gs2"
      },
      "execution_count": null,
      "outputs": []
    },
    {
      "cell_type": "markdown",
      "source": [
        "While n-gram model is computationally efficient and has been widely used, it has a few limitations. Firstly, dues to the fixed context size, the model is unable to process long-range dependencies. In some certain cases, a larger context is needed to predict the next word. Secondly, it cannot deal with unseen words. If an n-gram model encounters a word that is not in the training data, it is usually replaced with an unknown token. The model will then ignore this token and extend the context to the next word. However    "
      ],
      "metadata": {
        "id": "VEVtIKl6y3ee"
      }
    },
    {
      "cell_type": "markdown",
      "source": [
        "# References\n"
      ],
      "metadata": {
        "id": "37wSr3njU_G5"
      }
    },
    {
      "cell_type": "markdown",
      "source": [
        "Jurafsky, D., & Martin, J. H. (2023). *Speech and language processing: An introduction to natural language processing, computational linguistics, and speech recognition*. Retrieved from https://web.stanford.edu/~jurafsky/slp3/ed3book.pdf"
      ],
      "metadata": {
        "id": "Q-7PY7fdoT_4"
      }
    }
  ]
}